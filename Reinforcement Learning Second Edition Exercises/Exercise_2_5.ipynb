{
  "nbformat": 4,
  "nbformat_minor": 0,
  "metadata": {
    "colab": {
      "name": "Exercise 2_5.ipynb",
      "provenance": [],
      "collapsed_sections": [],
      "include_colab_link": true
    },
    "kernelspec": {
      "name": "python3",
      "display_name": "Python 3"
    },
    "language_info": {
      "name": "python"
    }
  },
  "cells": [
    {
      "cell_type": "markdown",
      "metadata": {
        "id": "view-in-github",
        "colab_type": "text"
      },
      "source": [
        "<a href=\"https://colab.research.google.com/github/ProfessorQu/Reinforcement-Learning/blob/main/Exercise_2_5.ipynb\" target=\"_parent\"><img src=\"https://colab.research.google.com/assets/colab-badge.svg\" alt=\"Open In Colab\"/></a>"
      ]
    },
    {
      "cell_type": "markdown",
      "metadata": {
        "id": "VH0QyC3naRp5"
      },
      "source": [
        "# Exercise 2.5\n",
        "Design and conduct an experiment to demonstrate the\n",
        "diculties that sample-average methods have for nonstationary problems. Use a modified\n",
        "version of the 10-armed testbed in which all the q*(a) start out equal and then take\n",
        "independent random walks (say by adding a normally distributed increment with mean 0\n",
        "and standard deviation 0.01 to all the q*(a) on each step). Prepare plots like Figure 2.2\n",
        "for an action-value method using sample averages, incrementally computed, and another\n",
        "action-value method using a constant step-size parameter, alpha = 0.1. Use epsilon = 0.1 and\n",
        "longer runs, say of 10,000 steps.\n",
        "\n",
        "## Summary\n",
        "- Create a bandit with 10 arms;\n",
        "- Instantiate q*(a) = 0 for all a, then take random walks for each a (normal distribution, mean=0, deviation=0.01);\n",
        "- Use the sample average technique and a bandit with alpha = 0.1;\n",
        "- Create all the tests with epsilon = 1;"
      ]
    },
    {
      "cell_type": "code",
      "metadata": {
        "colab": {
          "base_uri": "https://localhost:8080/"
        },
        "id": "an8qsVVFmGQc",
        "outputId": "d46d21af-e28d-4e4f-97d4-722769175bdf"
      },
      "source": [
        "# Import and instantiate all the data\n",
        "import numpy as np\n",
        "import matplotlib.pyplot as plt\n",
        "\n",
        "n_bandits = 1000\n",
        "n_steps = 1000\n",
        "\n",
        "R = [0 for _ in range(10)]\n",
        " \n",
        "print(\"n_steps:\", n_steps)\n",
        "print(\"n_bandits:\", n_bandits)\n",
        "print(\"\\nrandom:\", random)\n",
        "print(\"R:\", R)"
      ],
      "execution_count": null,
      "outputs": [
        {
          "output_type": "stream",
          "text": [
            "n_steps: 1000\n",
            "n_bandits: 1000\n",
            "\n",
            "random: True\n",
            "R: [0, 0, 0, 0, 0, 0, 0, 0, 0, 0]\n"
          ],
          "name": "stdout"
        }
      ]
    },
    {
      "cell_type": "code",
      "metadata": {
        "id": "pDYBXOVsZwWB"
      },
      "source": [
        "# Create the bandit object\n",
        "class Bandit(object):\n",
        "  def __init__(self, k=10, epsilon=0.1, alpha=None):\n",
        "    # Initialize all the variables\n",
        "    self.k = k\n",
        "    self.epsilon = epsilon\n",
        "\n",
        "    self.Q = [0 for _ in range(self.k)]\n",
        "    self.N = [0 for _ in range(self.k)]\n",
        "\n",
        "    if alpha is None:\n",
        "      self.alpha = lambda a: 1/self.N[a]\n",
        "    else:\n",
        "      self.alpha = alpha\n",
        "    \n",
        "    self.random = random\n",
        "  \n",
        "  def _choose_action(self):\n",
        "    # If random number < epsilon -> select random action\n",
        "    if np.random.uniform(0, 1) < self.epsilon:\n",
        "      action = np.random.randint(self.k)\n",
        "    # Otherwise -> select the 'best' action (according to our estimations)\n",
        "    else:\n",
        "      action = np.argmax(self.Q)\n",
        "    \n",
        "    # Return the chosen action\n",
        "    return action\n",
        "\n",
        "  def step(self):\n",
        "    # Choose an action and update the Q value\n",
        "    a = self._choose_action()\n",
        "\n",
        "    self.N[a] += 1\n",
        "    self.Q[a] += self.alpha(a) * (R[a] - self.Q[a])\n",
        "\n",
        "    return R[a]"
      ],
      "execution_count": null,
      "outputs": []
    },
    {
      "cell_type": "code",
      "metadata": {
        "colab": {
          "base_uri": "https://localhost:8080/",
          "height": 265
        },
        "id": "EG6hSccoLVMe",
        "outputId": "a7cca2a2-b2b6-42b2-f49f-73c2323accb3"
      },
      "source": [
        "# Create the bandits\n",
        "sample_avg_bandits = [Bandit() for _ in range(n_bandits)]\n",
        "constant_bandits = [Bandit(alpha=lambda a: 0.1) for _ in range(n_bandits)]\n",
        "\n",
        "x = [i for i in range(n_steps)]\n",
        "\n",
        "# Get the rewards\n",
        "sample_avg_r = [0 for _ in range(n_steps)]\n",
        "constant_r = [0 for _ in range(n_steps)]\n",
        "\n",
        "# Run with the number of steps\n",
        "for i in range(n_steps):\n",
        "  # Run sample average bandits\n",
        "  for bandit in sample_avg_bandits:\n",
        "    sample_avg_r[i] += bandit.step()\n",
        "  \n",
        "  # Run all constant alpha bandits\n",
        "  for bandit in constant_bandits:\n",
        "    constant_r[i] += bandit.step()\n",
        "\n",
        "  # Get the average of all the bandits\n",
        "  sample_avg_r[i] /= n_bandits\n",
        "  constant_r[i] /= n_bandits\n",
        "\n",
        "  # Take random walks\n",
        "  if random:\n",
        "    for action in range(5):\n",
        "      R[action] += np.random.normal(0, 0.01) \n",
        "\n",
        "# Plot the results\n",
        "plt.plot(x, sample_avg_r)\n",
        "plt.plot(x, constant_r)\n",
        "plt.legend([\"Sample Average\", \"Constant Step Size\"])\n",
        "plt.show()"
      ],
      "execution_count": null,
      "outputs": [
        {
          "output_type": "display_data",
          "data": {
            "image/png": "[encoded data removed]",
            "text/plain": [
              "<Figure size 432x288 with 1 Axes>"
            ]
          },
          "metadata": {
            "tags": [],
            "needs_background": "light"
          }
        }
      ]
    }
  ]
}